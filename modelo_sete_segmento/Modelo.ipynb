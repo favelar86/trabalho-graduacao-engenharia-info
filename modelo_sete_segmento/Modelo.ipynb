{
  "cells": [
    {
      "cell_type": "markdown",
      "metadata": {
        "id": "Lq3D2klzq0wZ"
      },
      "source": [
        "## **Instalação de dependências (adicionando scikit-image)**"
      ]
    },
    {
      "cell_type": "code",
      "execution_count": null,
      "metadata": {
        "colab": {
          "base_uri": "https://localhost:8080/"
        },
        "id": "s9V0VyeqquBU",
        "outputId": "5cf2cd67-4c59-44fa-f915-8814178615b1"
      },
      "outputs": [
        {
          "name": "stdout",
          "output_type": "stream",
          "text": [
            "Requirement already satisfied: tensorflow in /usr/local/lib/python3.11/dist-packages (2.18.0)\n",
            "Requirement already satisfied: scikit-image in /usr/local/lib/python3.11/dist-packages (0.25.2)\n",
            "Requirement already satisfied: absl-py>=1.0.0 in /usr/local/lib/python3.11/dist-packages (from tensorflow) (1.4.0)\n",
            "Requirement already satisfied: astunparse>=1.6.0 in /usr/local/lib/python3.11/dist-packages (from tensorflow) (1.6.3)\n",
            "Requirement already satisfied: flatbuffers>=24.3.25 in /usr/local/lib/python3.11/dist-packages (from tensorflow) (25.2.10)\n",
            "Requirement already satisfied: gast!=0.5.0,!=0.5.1,!=0.5.2,>=0.2.1 in /usr/local/lib/python3.11/dist-packages (from tensorflow) (0.6.0)\n",
            "Requirement already satisfied: google-pasta>=0.1.1 in /usr/local/lib/python3.11/dist-packages (from tensorflow) (0.2.0)\n",
            "Requirement already satisfied: libclang>=13.0.0 in /usr/local/lib/python3.11/dist-packages (from tensorflow) (18.1.1)\n",
            "Requirement already satisfied: opt-einsum>=2.3.2 in /usr/local/lib/python3.11/dist-packages (from tensorflow) (3.4.0)\n",
            "Requirement already satisfied: packaging in /usr/local/lib/python3.11/dist-packages (from tensorflow) (24.2)\n",
            "Requirement already satisfied: protobuf!=4.21.0,!=4.21.1,!=4.21.2,!=4.21.3,!=4.21.4,!=4.21.5,<6.0.0dev,>=3.20.3 in /usr/local/lib/python3.11/dist-packages (from tensorflow) (5.29.5)\n",
            "Requirement already satisfied: requests<3,>=2.21.0 in /usr/local/lib/python3.11/dist-packages (from tensorflow) (2.32.3)\n",
            "Requirement already satisfied: setuptools in /usr/local/lib/python3.11/dist-packages (from tensorflow) (75.2.0)\n",
            "Requirement already satisfied: six>=1.12.0 in /usr/local/lib/python3.11/dist-packages (from tensorflow) (1.17.0)\n",
            "Requirement already satisfied: termcolor>=1.1.0 in /usr/local/lib/python3.11/dist-packages (from tensorflow) (3.1.0)\n",
            "Requirement already satisfied: typing-extensions>=3.6.6 in /usr/local/lib/python3.11/dist-packages (from tensorflow) (4.14.0)\n",
            "Requirement already satisfied: wrapt>=1.11.0 in /usr/local/lib/python3.11/dist-packages (from tensorflow) (1.17.2)\n",
            "Requirement already satisfied: grpcio<2.0,>=1.24.3 in /usr/local/lib/python3.11/dist-packages (from tensorflow) (1.73.0)\n",
            "Requirement already satisfied: tensorboard<2.19,>=2.18 in /usr/local/lib/python3.11/dist-packages (from tensorflow) (2.18.0)\n",
            "Requirement already satisfied: keras>=3.5.0 in /usr/local/lib/python3.11/dist-packages (from tensorflow) (3.8.0)\n",
            "Requirement already satisfied: numpy<2.1.0,>=1.26.0 in /usr/local/lib/python3.11/dist-packages (from tensorflow) (2.0.2)\n",
            "Requirement already satisfied: h5py>=3.11.0 in /usr/local/lib/python3.11/dist-packages (from tensorflow) (3.14.0)\n",
            "Requirement already satisfied: ml-dtypes<0.5.0,>=0.4.0 in /usr/local/lib/python3.11/dist-packages (from tensorflow) (0.4.1)\n",
            "Requirement already satisfied: tensorflow-io-gcs-filesystem>=0.23.1 in /usr/local/lib/python3.11/dist-packages (from tensorflow) (0.37.1)\n",
            "Requirement already satisfied: scipy>=1.11.4 in /usr/local/lib/python3.11/dist-packages (from scikit-image) (1.15.3)\n",
            "Requirement already satisfied: networkx>=3.0 in /usr/local/lib/python3.11/dist-packages (from scikit-image) (3.5)\n",
            "Requirement already satisfied: pillow>=10.1 in /usr/local/lib/python3.11/dist-packages (from scikit-image) (11.2.1)\n",
            "Requirement already satisfied: imageio!=2.35.0,>=2.33 in /usr/local/lib/python3.11/dist-packages (from scikit-image) (2.37.0)\n",
            "Requirement already satisfied: tifffile>=2022.8.12 in /usr/local/lib/python3.11/dist-packages (from scikit-image) (2025.6.1)\n",
            "Requirement already satisfied: lazy-loader>=0.4 in /usr/local/lib/python3.11/dist-packages (from scikit-image) (0.4)\n",
            "Requirement already satisfied: wheel<1.0,>=0.23.0 in /usr/local/lib/python3.11/dist-packages (from astunparse>=1.6.0->tensorflow) (0.45.1)\n",
            "Requirement already satisfied: rich in /usr/local/lib/python3.11/dist-packages (from keras>=3.5.0->tensorflow) (13.9.4)\n",
            "Requirement already satisfied: namex in /usr/local/lib/python3.11/dist-packages (from keras>=3.5.0->tensorflow) (0.1.0)\n",
            "Requirement already satisfied: optree in /usr/local/lib/python3.11/dist-packages (from keras>=3.5.0->tensorflow) (0.16.0)\n",
            "Requirement already satisfied: charset-normalizer<4,>=2 in /usr/local/lib/python3.11/dist-packages (from requests<3,>=2.21.0->tensorflow) (3.4.2)\n",
            "Requirement already satisfied: idna<4,>=2.5 in /usr/local/lib/python3.11/dist-packages (from requests<3,>=2.21.0->tensorflow) (3.10)\n",
            "Requirement already satisfied: urllib3<3,>=1.21.1 in /usr/local/lib/python3.11/dist-packages (from requests<3,>=2.21.0->tensorflow) (2.4.0)\n",
            "Requirement already satisfied: certifi>=2017.4.17 in /usr/local/lib/python3.11/dist-packages (from requests<3,>=2.21.0->tensorflow) (2025.4.26)\n",
            "Requirement already satisfied: markdown>=2.6.8 in /usr/local/lib/python3.11/dist-packages (from tensorboard<2.19,>=2.18->tensorflow) (3.8)\n",
            "Requirement already satisfied: tensorboard-data-server<0.8.0,>=0.7.0 in /usr/local/lib/python3.11/dist-packages (from tensorboard<2.19,>=2.18->tensorflow) (0.7.2)\n",
            "Requirement already satisfied: werkzeug>=1.0.1 in /usr/local/lib/python3.11/dist-packages (from tensorboard<2.19,>=2.18->tensorflow) (3.1.3)\n",
            "Requirement already satisfied: MarkupSafe>=2.1.1 in /usr/local/lib/python3.11/dist-packages (from werkzeug>=1.0.1->tensorboard<2.19,>=2.18->tensorflow) (3.0.2)\n",
            "Requirement already satisfied: markdown-it-py>=2.2.0 in /usr/local/lib/python3.11/dist-packages (from rich->keras>=3.5.0->tensorflow) (3.0.0)\n",
            "Requirement already satisfied: pygments<3.0.0,>=2.13.0 in /usr/local/lib/python3.11/dist-packages (from rich->keras>=3.5.0->tensorflow) (2.19.1)\n",
            "Requirement already satisfied: mdurl~=0.1 in /usr/local/lib/python3.11/dist-packages (from markdown-it-py>=2.2.0->rich->keras>=3.5.0->tensorflow) (0.1.2)\n"
          ]
        }
      ],
      "source": [
        "!pip install tensorflow scikit-image"
      ]
    },
    {
      "cell_type": "markdown",
      "metadata": {
        "id": "QIeDMehQpkde"
      },
      "source": [
        "## **Imports necessários**"
      ]
    },
    {
      "cell_type": "code",
      "execution_count": null,
      "metadata": {
        "id": "iN1B3_f6pB_q"
      },
      "outputs": [],
      "source": [
        "import os\n",
        "import pandas as pd\n",
        "import tensorflow as tf\n",
        "from tensorflow.keras import layers, models\n",
        "from tensorflow.keras.models import Sequential\n",
        "from tensorflow.keras.layers import Dense, Dropout\n",
        "from tensorflow.keras.utils import to_categorical\n",
        "from tensorflow.keras.callbacks import EarlyStopping, ReduceLROnPlateau\n",
        "from tensorflow.keras.optimizers import Adam\n",
        "from tensorflow.keras.regularizers import l2\n",
        "from sklearn.utils.class_weight import compute_class_weight\n",
        "from sklearn.model_selection import train_test_split\n",
        "from sklearn.metrics import confusion_matrix\n",
        "import numpy as np\n",
        "import matplotlib.pyplot as plt\n",
        "import seaborn as sns\n",
        "import cv2\n",
        "from skimage.filters import threshold_sauvola\n",
        "from google.colab import drive"
      ]
    },
    {
      "cell_type": "markdown",
      "metadata": {
        "id": "TJX3zZkLrfKY"
      },
      "source": [
        "## **Montar o Drive (sem alteração)**"
      ]
    },
    {
      "cell_type": "code",
      "execution_count": null,
      "metadata": {
        "colab": {
          "base_uri": "https://localhost:8080/"
        },
        "id": "J2E1ok6yrRiR",
        "outputId": "6bb8b4ed-185c-401f-8bc5-50fafa2bdd63"
      },
      "outputs": [
        {
          "name": "stdout",
          "output_type": "stream",
          "text": [
            "Mounted at /content/drive\n"
          ]
        }
      ],
      "source": [
        "drive.mount('/content/drive')"
      ]
    },
    {
      "cell_type": "markdown",
      "metadata": {
        "id": "w_D0QwzYsC1v"
      },
      "source": [
        "## **Definir diretórios**"
      ]
    },
    {
      "cell_type": "code",
      "execution_count": null,
      "metadata": {
        "id": "NWYm-TWSr1OZ"
      },
      "outputs": [],
      "source": [
        "# Diretório principal dos datasets\n",
        "train_dir = \n",
        "test_dir = \n",
        "\n",
        "# Caminho do arquivo CSV com as labels\n",
        "train_labels_csv_path = \n",
        "test_labels_csv_path = "
      ]
    },
    {
      "cell_type": "markdown",
      "metadata": {
        "id": "qMyXdGgts8cz"
      },
      "source": [
        "## **Função para pré-processar imagens**"
      ]
    },
    {
      "cell_type": "code",
      "execution_count": null,
      "metadata": {
        "id": "Dfce5O1FszbN"
      },
      "outputs": [],
      "source": [
        "def preprocess_digit_image_for_hog(img_path, target_size=(56, 56)):\n",
        "    img = cv2.imread(img_path, cv2.IMREAD_GRAYSCALE)\n",
        "    if img is None:\n",
        "        print(f\"Não foi possível ler a imagem: {img_path}\")\n",
        "        return None\n",
        "    img_resized = cv2.resize(img, target_size)\n",
        "\n",
        "    # Binarização de Sauvola [cite: 148, 262]\n",
        "    # O artigo menciona k=0.34 e W_sauv = 0.059 * H_img para a tela cheia. [cite: 199, 200]\n",
        "    # Para dígitos 56x56, um window_size menor é apropriado.\n",
        "    # Valores típicos para window_size são ímpares, ex: 15, 25. k entre 0.2 e 0.5.\n",
        "    window_size = 25 # Deve ser ajustado empiricamente\n",
        "    k_sauvola = 0.34\n",
        "    try:\n",
        "        thresh_sauvola = threshold_sauvola(img_resized, window_size=window_size, k=k_sauvola)\n",
        "        img_binarized = (img_resized > thresh_sauvola).astype(np.uint8) * 255\n",
        "        # Inverter se necessário para ter segmentos pretos (0) em fundo branco (255)\n",
        "        # ou segmentos brancos (255) em fundo preto (0).\n",
        "        # A Figura 4 do artigo mostra segmentos pretos em fundo branco.\n",
        "        # Se threshold_sauvola produz segmentos brancos, inverta:\n",
        "        # img_binarized = (img_resized <= thresh_sauvola).astype(np.uint8) * 255\n",
        "    except Exception as e:\n",
        "        print(f\"Erro na binarização de Sauvola para {img_path}: {e}. Usando Otsu como fallback.\")\n",
        "        _, img_binarized = cv2.threshold(img_resized, 0, 255, cv2.THRESH_BINARY_INV + cv2.THRESH_OTSU)\n",
        "\n",
        "\n",
        "    # HOG geralmente espera objetos claros em fundo escuro, ou o contrário de forma consistente.\n",
        "    # Para este exemplo, retornaremos a imagem em tons de cinza redimensionada,\n",
        "    # pois HOG pode ser calculado diretamente sobre ela e é uma prática comum.\n",
        "    # O artigo, no entanto, binariza os dígitos antes do HOG[cite: 262, 148].\n",
        "    # Se for usar a binarizada, certifique-se que é uint8.\n",
        "    # return img_binarized.astype(np.uint8) # Para usar a imagem binarizada\n",
        "    return img_resized.astype(np.uint8) # Usando tons de cinza para HOG"
      ]
    },
    {
      "cell_type": "markdown",
      "metadata": {
        "id": "GOHanxHQtln9"
      },
      "source": [
        "## **Carregar imagens e labels**"
      ]
    },
    {
      "cell_type": "code",
      "execution_count": null,
      "metadata": {
        "id": "1xW7zboztflr"
      },
      "outputs": [],
      "source": [
        "def load_images_and_labels_from_csv_for_hog(image_folder, labels_df, target_size=(56, 56)):\n",
        "    X_data, y_data = [], []\n",
        "    for index, row in labels_df.iterrows():\n",
        "        image_name = row['file']\n",
        "        label = row['label']\n",
        "\n",
        "        # Construir o caminho completo da imagem\n",
        "        # 1. Remover \"./dataset/train/\" do início do caminho (se necessário)\n",
        "        image_name = image_name.replace(\"./dataset/train/\", \"\")\n",
        "        image_name = image_name.replace(\"./dataset/validation/\", \"\")\n",
        "        # 2. Combinar com o caminho base da pasta 'image_folder'\n",
        "        image_path = os.path.join(image_folder, image_name)\n",
        "\n",
        "        if os.path.exists(image_path):\n",
        "            processed_img = preprocess_digit_image_for_hog(image_path, target_size)\n",
        "            if processed_img is not None:\n",
        "                X_data.append(processed_img)\n",
        "                y_data.append(row['label'])\n",
        "        else:\n",
        "            print(f\"Imagem não encontrada: {image_path} (original: {image_name_full})\")\n",
        "    return np.array(X_data), np.array(y_data)"
      ]
    },
    {
      "cell_type": "markdown",
      "metadata": {
        "id": "MfdYyTOtuRSH"
      },
      "source": [
        "## **Função para extrair características HOG**"
      ]
    },
    {
      "cell_type": "code",
      "execution_count": null,
      "metadata": {
        "id": "oRJfMt8Eufa2"
      },
      "outputs": [],
      "source": [
        "def extract_hog_features(images_array):\n",
        "    hog_features_list = []\n",
        "    # Parâmetros HOG para obter 1296 características de uma imagem 56x56 [cite: 271]\n",
        "    winSize = (56, 56)\n",
        "    blockSize = (16, 16)\n",
        "    blockStride = (8, 8)\n",
        "    cellSize = (8, 8)\n",
        "    nbins = 9\n",
        "\n",
        "    hog = cv2.HOGDescriptor(winSize, blockSize, blockStride, cellSize, nbins)\n",
        "\n",
        "    for img in images_array:\n",
        "        # HOG espera imagens uint8\n",
        "        if img.dtype != np.uint8:\n",
        "            # Se normalizadas (0-1), converta de volta para 0-255\n",
        "            img_uint8 = (img * 255).astype(np.uint8) if img.max() <= 1.0 else img.astype(np.uint8)\n",
        "        else:\n",
        "            img_uint8 = img\n",
        "\n",
        "        features = hog.compute(img_uint8)\n",
        "        hog_features_list.append(features.flatten())\n",
        "\n",
        "    return np.array(hog_features_list)"
      ]
    },
    {
      "cell_type": "markdown",
      "metadata": {
        "id": "lWeLEgBDuxhv"
      },
      "source": [
        "## **Carregar os dados e pré-processar**"
      ]
    },
    {
      "cell_type": "code",
      "execution_count": null,
      "metadata": {
        "colab": {
          "base_uri": "https://localhost:8080/"
        },
        "id": "4pXtIhYXvL4J",
        "outputId": "930c4189-a171-4415-f7a9-50e452260b2c"
      },
      "outputs": [
        {
          "name": "stdout",
          "output_type": "stream",
          "text": [
            "Carregando e pré-processando dados de treinamento...\n",
            "Carregando e pré-processando dados de teste...\n",
            "Formato de X_train_img: (10000, 56, 56)\n",
            "Formato de X_test_img: (4000, 56, 56)\n",
            "Extraindo características HOG dos dados de treinamento...\n",
            "Extraindo características HOG dos dados de teste...\n",
            "Formato de X_train_hog: (10000, 1296)\n",
            "Formato de X_test_hog: (4000, 1296)\n"
          ]
        }
      ],
      "source": [
        "train_labels_df = pd.read_csv(train_labels_csv_path)\n",
        "test_labels_df = pd.read_csv(test_labels_csv_path)\n",
        "\n",
        "print(\"Carregando e pré-processando dados de treinamento...\")\n",
        "X_train_img, y_train = load_images_and_labels_from_csv_for_hog(train_dir, train_labels_df)\n",
        "print(\"Carregando e pré-processando dados de teste...\")\n",
        "X_test_img, y_test = load_images_and_labels_from_csv_for_hog(test_dir, test_labels_df)\n",
        "\n",
        "if X_train_img.size == 0 or X_test_img.size == 0:\n",
        "    raise ValueError(\"Nenhuma imagem foi carregada. Verifique os caminhos e a estrutura do CSV.\")\n",
        "\n",
        "print(f\"Formato de X_train_img: {X_train_img.shape}\")\n",
        "print(f\"Formato de X_test_img: {X_test_img.shape}\")\n",
        "\n",
        "\n",
        "num_classes = len(np.unique(y_train))\n",
        "y_train_cat = to_categorical(y_train, num_classes)\n",
        "y_test_cat = to_categorical(y_test, num_classes)\n",
        "\n",
        "print(\"Extraindo características HOG dos dados de treinamento...\")\n",
        "X_train_hog = extract_hog_features(X_train_img)\n",
        "print(\"Extraindo características HOG dos dados de teste...\")\n",
        "X_test_hog = extract_hog_features(X_test_img)\n",
        "\n",
        "print(f\"Formato de X_train_hog: {X_train_hog.shape}\")\n",
        "print(f\"Formato de X_test_hog: {X_test_hog.shape}\")\n",
        "\n",
        "if X_train_hog.shape[0] == 0:\n",
        "    raise ValueError(\"Nenhuma característica HOG foi extraída para o conjunto de treinamento.\")\n",
        "if X_test_hog.shape[0] == 0:\n",
        "    raise ValueError(\"Nenhuma característica HOG foi extraída para o conjunto de teste.\")\n",
        "\n",
        "input_dim_hog = X_train_hog.shape[1]\n",
        "if input_dim_hog != 1296:\n",
        "    print(f\"Alerta: Dimensão HOG esperada era 1296, mas obteve {input_dim_hog}. Verifique os parâmetros HOG.\")"
      ]
    },
    {
      "cell_type": "markdown",
      "metadata": {
        "id": "z1h5uo-wM-nL"
      },
      "source": [
        "## **Carregar os dados e pré-processar**"
      ]
    },
    {
      "cell_type": "code",
      "execution_count": null,
      "metadata": {
        "colab": {
          "base_uri": "https://localhost:8080/"
        },
        "id": "S6OI3D2INKAK",
        "outputId": "3f01ebff-a634-4637-f02e-e6e46f2f2c94"
      },
      "outputs": [
        {
          "name": "stdout",
          "output_type": "stream",
          "text": [
            "Carregando e pré-processando dados de treinamento...\n",
            "Carregando e pré-processando dados de teste...\n",
            "Formato de X_train_img: (10000, 56, 56)\n",
            "Formato de X_test_img: (4000, 56, 56)\n",
            "Extraindo características HOG dos dados de treinamento...\n",
            "Extraindo características HOG dos dados de teste...\n",
            "Formato de X_train_hog: (10000, 1296)\n",
            "Formato de X_test_hog: (4000, 1296)\n"
          ]
        }
      ],
      "source": [
        "train_labels_df = pd.read_csv(train_labels_csv_path)\n",
        "test_labels_df = pd.read_csv(test_labels_csv_path)\n",
        "\n",
        "print(\"Carregando e pré-processando dados de treinamento...\")\n",
        "X_train_img, y_train = load_images_and_labels_from_csv_for_hog(train_dir, train_labels_df)\n",
        "print(\"Carregando e pré-processando dados de teste...\")\n",
        "X_test_img, y_test = load_images_and_labels_from_csv_for_hog(test_dir, test_labels_df)\n",
        "\n",
        "if X_train_img.size == 0 or X_test_img.size == 0:\n",
        "    raise ValueError(\"Nenhuma imagem foi carregada. Verifique os caminhos e a estrutura do CSV.\")\n",
        "\n",
        "print(f\"Formato de X_train_img: {X_train_img.shape}\")\n",
        "print(f\"Formato de X_test_img: {X_test_img.shape}\")\n",
        "\n",
        "\n",
        "num_classes = len(np.unique(y_train))\n",
        "y_train_cat = to_categorical(y_train, num_classes)\n",
        "y_test_cat = to_categorical(y_test, num_classes)\n",
        "\n",
        "print(\"Extraindo características HOG dos dados de treinamento...\")\n",
        "X_train_hog = extract_hog_features(X_train_img)\n",
        "print(\"Extraindo características HOG dos dados de teste...\")\n",
        "X_test_hog = extract_hog_features(X_test_img)\n",
        "\n",
        "print(f\"Formato de X_train_hog: {X_train_hog.shape}\")\n",
        "print(f\"Formato de X_test_hog: {X_test_hog.shape}\")\n",
        "\n",
        "if X_train_hog.shape[0] == 0:\n",
        "    raise ValueError(\"Nenhuma característica HOG foi extraída para o conjunto de treinamento.\")\n",
        "if X_test_hog.shape[0] == 0:\n",
        "    raise ValueError(\"Nenhuma característica HOG foi extraída para o conjunto de teste.\")\n",
        "\n",
        "input_dim_hog = X_train_hog.shape[1]\n",
        "if input_dim_hog != 1296:\n",
        "    print(f\"Alerta: Dimensão HOG esperada era 1296, mas obteve {input_dim_hog}. Verifique os parâmetros HOG.\")"
      ]
    },
    {
      "cell_type": "markdown",
      "metadata": {
        "id": "SRHDzOK1PQgp"
      },
      "source": [
        "## **Pré-processamento e treino**"
      ]
    },
    {
      "cell_type": "code",
      "execution_count": null,
      "metadata": {
        "colab": {
          "base_uri": "https://localhost:8080/",
          "height": 1000
        },
        "id": "5cieL1QlPuD4",
        "outputId": "a590ef54-f0c4-4992-ed0c-5d960c25c710"
      },
      "outputs": [
        {
          "name": "stderr",
          "output_type": "stream",
          "text": [
            "/usr/local/lib/python3.11/dist-packages/keras/src/layers/core/dense.py:87: UserWarning: Do not pass an `input_shape`/`input_dim` argument to a layer. When using Sequential models, prefer using an `Input(shape)` object as the first layer in the model instead.\n",
            "  super().__init__(activity_regularizer=activity_regularizer, **kwargs)\n"
          ]
        },
        {
          "data": {
            "text/html": [
              "<pre style=\"white-space:pre;overflow-x:auto;line-height:normal;font-family:Menlo,'DejaVu Sans Mono',consolas,'Courier New',monospace\"><span style=\"font-weight: bold\">Model: \"sequential\"</span>\n",
              "</pre>\n"
            ],
            "text/plain": [
              "\u001b[1mModel: \"sequential\"\u001b[0m\n"
            ]
          },
          "metadata": {},
          "output_type": "display_data"
        },
        {
          "data": {
            "text/html": [
              "<pre style=\"white-space:pre;overflow-x:auto;line-height:normal;font-family:Menlo,'DejaVu Sans Mono',consolas,'Courier New',monospace\">┏━━━━━━━━━━━━━━━━━━━━━━━━━━━━━━━━━┳━━━━━━━━━━━━━━━━━━━━━━━━┳━━━━━━━━━━━━━━━┓\n",
              "┃<span style=\"font-weight: bold\"> Layer (type)                    </span>┃<span style=\"font-weight: bold\"> Output Shape           </span>┃<span style=\"font-weight: bold\">       Param # </span>┃\n",
              "┡━━━━━━━━━━━━━━━━━━━━━━━━━━━━━━━━━╇━━━━━━━━━━━━━━━━━━━━━━━━╇━━━━━━━━━━━━━━━┩\n",
              "│ dense (<span style=\"color: #0087ff; text-decoration-color: #0087ff\">Dense</span>)                   │ (<span style=\"color: #00d7ff; text-decoration-color: #00d7ff\">None</span>, <span style=\"color: #00af00; text-decoration-color: #00af00\">56</span>)             │        <span style=\"color: #00af00; text-decoration-color: #00af00\">72,632</span> │\n",
              "├─────────────────────────────────┼────────────────────────┼───────────────┤\n",
              "│ dropout (<span style=\"color: #0087ff; text-decoration-color: #0087ff\">Dropout</span>)               │ (<span style=\"color: #00d7ff; text-decoration-color: #00d7ff\">None</span>, <span style=\"color: #00af00; text-decoration-color: #00af00\">56</span>)             │             <span style=\"color: #00af00; text-decoration-color: #00af00\">0</span> │\n",
              "├─────────────────────────────────┼────────────────────────┼───────────────┤\n",
              "│ dense_1 (<span style=\"color: #0087ff; text-decoration-color: #0087ff\">Dense</span>)                 │ (<span style=\"color: #00d7ff; text-decoration-color: #00d7ff\">None</span>, <span style=\"color: #00af00; text-decoration-color: #00af00\">10</span>)             │           <span style=\"color: #00af00; text-decoration-color: #00af00\">570</span> │\n",
              "└─────────────────────────────────┴────────────────────────┴───────────────┘\n",
              "</pre>\n"
            ],
            "text/plain": [
              "┏━━━━━━━━━━━━━━━━━━━━━━━━━━━━━━━━━┳━━━━━━━━━━━━━━━━━━━━━━━━┳━━━━━━━━━━━━━━━┓\n",
              "┃\u001b[1m \u001b[0m\u001b[1mLayer (type)                   \u001b[0m\u001b[1m \u001b[0m┃\u001b[1m \u001b[0m\u001b[1mOutput Shape          \u001b[0m\u001b[1m \u001b[0m┃\u001b[1m \u001b[0m\u001b[1m      Param #\u001b[0m\u001b[1m \u001b[0m┃\n",
              "┡━━━━━━━━━━━━━━━━━━━━━━━━━━━━━━━━━╇━━━━━━━━━━━━━━━━━━━━━━━━╇━━━━━━━━━━━━━━━┩\n",
              "│ dense (\u001b[38;5;33mDense\u001b[0m)                   │ (\u001b[38;5;45mNone\u001b[0m, \u001b[38;5;34m56\u001b[0m)             │        \u001b[38;5;34m72,632\u001b[0m │\n",
              "├─────────────────────────────────┼────────────────────────┼───────────────┤\n",
              "│ dropout (\u001b[38;5;33mDropout\u001b[0m)               │ (\u001b[38;5;45mNone\u001b[0m, \u001b[38;5;34m56\u001b[0m)             │             \u001b[38;5;34m0\u001b[0m │\n",
              "├─────────────────────────────────┼────────────────────────┼───────────────┤\n",
              "│ dense_1 (\u001b[38;5;33mDense\u001b[0m)                 │ (\u001b[38;5;45mNone\u001b[0m, \u001b[38;5;34m10\u001b[0m)             │           \u001b[38;5;34m570\u001b[0m │\n",
              "└─────────────────────────────────┴────────────────────────┴───────────────┘\n"
            ]
          },
          "metadata": {},
          "output_type": "display_data"
        },
        {
          "data": {
            "text/html": [
              "<pre style=\"white-space:pre;overflow-x:auto;line-height:normal;font-family:Menlo,'DejaVu Sans Mono',consolas,'Courier New',monospace\"><span style=\"font-weight: bold\"> Total params: </span><span style=\"color: #00af00; text-decoration-color: #00af00\">73,202</span> (285.95 KB)\n",
              "</pre>\n"
            ],
            "text/plain": [
              "\u001b[1m Total params: \u001b[0m\u001b[38;5;34m73,202\u001b[0m (285.95 KB)\n"
            ]
          },
          "metadata": {},
          "output_type": "display_data"
        },
        {
          "data": {
            "text/html": [
              "<pre style=\"white-space:pre;overflow-x:auto;line-height:normal;font-family:Menlo,'DejaVu Sans Mono',consolas,'Courier New',monospace\"><span style=\"font-weight: bold\"> Trainable params: </span><span style=\"color: #00af00; text-decoration-color: #00af00\">73,202</span> (285.95 KB)\n",
              "</pre>\n"
            ],
            "text/plain": [
              "\u001b[1m Trainable params: \u001b[0m\u001b[38;5;34m73,202\u001b[0m (285.95 KB)\n"
            ]
          },
          "metadata": {},
          "output_type": "display_data"
        },
        {
          "data": {
            "text/html": [
              "<pre style=\"white-space:pre;overflow-x:auto;line-height:normal;font-family:Menlo,'DejaVu Sans Mono',consolas,'Courier New',monospace\"><span style=\"font-weight: bold\"> Non-trainable params: </span><span style=\"color: #00af00; text-decoration-color: #00af00\">0</span> (0.00 B)\n",
              "</pre>\n"
            ],
            "text/plain": [
              "\u001b[1m Non-trainable params: \u001b[0m\u001b[38;5;34m0\u001b[0m (0.00 B)\n"
            ]
          },
          "metadata": {},
          "output_type": "display_data"
        },
        {
          "name": "stdout",
          "output_type": "stream",
          "text": [
            "Iniciando treinamento do modelo MLP...\n",
            "Epoch 1/100\n",
            "\u001b[1m313/313\u001b[0m \u001b[32m━━━━━━━━━━━━━━━━━━━━\u001b[0m\u001b[37m\u001b[0m \u001b[1m3s\u001b[0m 5ms/step - accuracy: 0.3578 - loss: 1.9460 - val_accuracy: 0.8605 - val_loss: 0.8593 - learning_rate: 0.0010\n",
            "Epoch 2/100\n",
            "\u001b[1m313/313\u001b[0m \u001b[32m━━━━━━━━━━━━━━━━━━━━\u001b[0m\u001b[37m\u001b[0m \u001b[1m3s\u001b[0m 5ms/step - accuracy: 0.7965 - loss: 0.8446 - val_accuracy: 0.9260 - val_loss: 0.5252 - learning_rate: 0.0010\n",
            "Epoch 3/100\n",
            "\u001b[1m313/313\u001b[0m \u001b[32m━━━━━━━━━━━━━━━━━━━━\u001b[0m\u001b[37m\u001b[0m \u001b[1m3s\u001b[0m 6ms/step - accuracy: 0.8779 - loss: 0.5776 - val_accuracy: 0.9565 - val_loss: 0.3937 - learning_rate: 0.0010\n",
            "Epoch 4/100\n",
            "\u001b[1m313/313\u001b[0m \u001b[32m━━━━━━━━━━━━━━━━━━━━\u001b[0m\u001b[37m\u001b[0m \u001b[1m2s\u001b[0m 4ms/step - accuracy: 0.9057 - loss: 0.4740 - val_accuracy: 0.9578 - val_loss: 0.3454 - learning_rate: 0.0010\n",
            "Epoch 5/100\n",
            "\u001b[1m313/313\u001b[0m \u001b[32m━━━━━━━━━━━━━━━━━━━━\u001b[0m\u001b[37m\u001b[0m \u001b[1m1s\u001b[0m 4ms/step - accuracy: 0.9356 - loss: 0.4048 - val_accuracy: 0.9730 - val_loss: 0.3001 - learning_rate: 0.0010\n",
            "Epoch 6/100\n",
            "\u001b[1m313/313\u001b[0m \u001b[32m━━━━━━━━━━━━━━━━━━━━\u001b[0m\u001b[37m\u001b[0m \u001b[1m1s\u001b[0m 4ms/step - accuracy: 0.9421 - loss: 0.3704 - val_accuracy: 0.9745 - val_loss: 0.2798 - learning_rate: 0.0010\n",
            "Epoch 7/100\n",
            "\u001b[1m313/313\u001b[0m \u001b[32m━━━━━━━━━━━━━━━━━━━━\u001b[0m\u001b[37m\u001b[0m \u001b[1m1s\u001b[0m 4ms/step - accuracy: 0.9479 - loss: 0.3426 - val_accuracy: 0.9753 - val_loss: 0.2627 - learning_rate: 0.0010\n",
            "Epoch 8/100\n",
            "\u001b[1m313/313\u001b[0m \u001b[32m━━━━━━━━━━━━━━━━━━━━\u001b[0m\u001b[37m\u001b[0m \u001b[1m1s\u001b[0m 4ms/step - accuracy: 0.9550 - loss: 0.3096 - val_accuracy: 0.9765 - val_loss: 0.2457 - learning_rate: 0.0010\n",
            "Epoch 9/100\n",
            "\u001b[1m313/313\u001b[0m \u001b[32m━━━━━━━━━━━━━━━━━━━━\u001b[0m\u001b[37m\u001b[0m \u001b[1m2s\u001b[0m 4ms/step - accuracy: 0.9549 - loss: 0.3065 - val_accuracy: 0.9810 - val_loss: 0.2320 - learning_rate: 0.0010\n",
            "Epoch 10/100\n",
            "\u001b[1m313/313\u001b[0m \u001b[32m━━━━━━━━━━━━━━━━━━━━\u001b[0m\u001b[37m\u001b[0m \u001b[1m2s\u001b[0m 6ms/step - accuracy: 0.9570 - loss: 0.2852 - val_accuracy: 0.9762 - val_loss: 0.2284 - learning_rate: 0.0010\n",
            "Epoch 11/100\n",
            "\u001b[1m313/313\u001b[0m \u001b[32m━━━━━━━━━━━━━━━━━━━━\u001b[0m\u001b[37m\u001b[0m \u001b[1m2s\u001b[0m 6ms/step - accuracy: 0.9618 - loss: 0.2741 - val_accuracy: 0.9785 - val_loss: 0.2176 - learning_rate: 0.0010\n",
            "Epoch 12/100\n",
            "\u001b[1m313/313\u001b[0m \u001b[32m━━━━━━━━━━━━━━━━━━━━\u001b[0m\u001b[37m\u001b[0m \u001b[1m2s\u001b[0m 4ms/step - accuracy: 0.9587 - loss: 0.2677 - val_accuracy: 0.9840 - val_loss: 0.1981 - learning_rate: 0.0010\n",
            "Epoch 13/100\n",
            "\u001b[1m313/313\u001b[0m \u001b[32m━━━━━━━━━━━━━━━━━━━━\u001b[0m\u001b[37m\u001b[0m \u001b[1m1s\u001b[0m 4ms/step - accuracy: 0.9664 - loss: 0.2472 - val_accuracy: 0.9830 - val_loss: 0.1944 - learning_rate: 0.0010\n",
            "Epoch 14/100\n",
            "\u001b[1m313/313\u001b[0m \u001b[32m━━━━━━━━━━━━━━━━━━━━\u001b[0m\u001b[37m\u001b[0m \u001b[1m1s\u001b[0m 4ms/step - accuracy: 0.9713 - loss: 0.2370 - val_accuracy: 0.9820 - val_loss: 0.1890 - learning_rate: 0.0010\n",
            "Epoch 15/100\n",
            "\u001b[1m313/313\u001b[0m \u001b[32m━━━━━━━━━━━━━━━━━━━━\u001b[0m\u001b[37m\u001b[0m \u001b[1m1s\u001b[0m 4ms/step - accuracy: 0.9687 - loss: 0.2344 - val_accuracy: 0.9883 - val_loss: 0.1807 - learning_rate: 0.0010\n",
            "Epoch 16/100\n",
            "\u001b[1m313/313\u001b[0m \u001b[32m━━━━━━━━━━━━━━━━━━━━\u001b[0m\u001b[37m\u001b[0m \u001b[1m1s\u001b[0m 4ms/step - accuracy: 0.9704 - loss: 0.2294 - val_accuracy: 0.9847 - val_loss: 0.1805 - learning_rate: 0.0010\n",
            "Epoch 17/100\n",
            "\u001b[1m313/313\u001b[0m \u001b[32m━━━━━━━━━━━━━━━━━━━━\u001b[0m\u001b[37m\u001b[0m \u001b[1m1s\u001b[0m 4ms/step - accuracy: 0.9735 - loss: 0.2147 - val_accuracy: 0.9865 - val_loss: 0.1725 - learning_rate: 0.0010\n",
            "Epoch 18/100\n",
            "\u001b[1m313/313\u001b[0m \u001b[32m━━━━━━━━━━━━━━━━━━━━\u001b[0m\u001b[37m\u001b[0m \u001b[1m1s\u001b[0m 4ms/step - accuracy: 0.9719 - loss: 0.2124 - val_accuracy: 0.9883 - val_loss: 0.1663 - learning_rate: 0.0010\n",
            "Epoch 19/100\n",
            "\u001b[1m313/313\u001b[0m \u001b[32m━━━━━━━━━━━━━━━━━━━━\u001b[0m\u001b[37m\u001b[0m \u001b[1m2s\u001b[0m 6ms/step - accuracy: 0.9706 - loss: 0.2090 - val_accuracy: 0.9880 - val_loss: 0.1651 - learning_rate: 0.0010\n",
            "Epoch 20/100\n",
            "\u001b[1m313/313\u001b[0m \u001b[32m━━━━━━━━━━━━━━━━━━━━\u001b[0m\u001b[37m\u001b[0m \u001b[1m2s\u001b[0m 7ms/step - accuracy: 0.9719 - loss: 0.2051 - val_accuracy: 0.9862 - val_loss: 0.1579 - learning_rate: 0.0010\n",
            "Epoch 21/100\n",
            "\u001b[1m313/313\u001b[0m \u001b[32m━━━━━━━━━━━━━━━━━━━━\u001b[0m\u001b[37m\u001b[0m \u001b[1m2s\u001b[0m 4ms/step - accuracy: 0.9735 - loss: 0.1983 - val_accuracy: 0.9868 - val_loss: 0.1588 - learning_rate: 0.0010\n",
            "Epoch 22/100\n",
            "\u001b[1m313/313\u001b[0m \u001b[32m━━━━━━━━━━━━━━━━━━━━\u001b[0m\u001b[37m\u001b[0m \u001b[1m1s\u001b[0m 4ms/step - accuracy: 0.9743 - loss: 0.1959 - val_accuracy: 0.9812 - val_loss: 0.1693 - learning_rate: 0.0010\n",
            "Epoch 23/100\n",
            "\u001b[1m313/313\u001b[0m \u001b[32m━━━━━━━━━━━━━━━━━━━━\u001b[0m\u001b[37m\u001b[0m \u001b[1m1s\u001b[0m 4ms/step - accuracy: 0.9758 - loss: 0.1901 - val_accuracy: 0.9862 - val_loss: 0.1552 - learning_rate: 0.0010\n",
            "Epoch 24/100\n",
            "\u001b[1m313/313\u001b[0m \u001b[32m━━━━━━━━━━━━━━━━━━━━\u001b[0m\u001b[37m\u001b[0m \u001b[1m2s\u001b[0m 4ms/step - accuracy: 0.9770 - loss: 0.1875 - val_accuracy: 0.9890 - val_loss: 0.1480 - learning_rate: 0.0010\n",
            "Epoch 25/100\n",
            "\u001b[1m313/313\u001b[0m \u001b[32m━━━━━━━━━━━━━━━━━━━━\u001b[0m\u001b[37m\u001b[0m \u001b[1m1s\u001b[0m 4ms/step - accuracy: 0.9748 - loss: 0.1834 - val_accuracy: 0.9860 - val_loss: 0.1519 - learning_rate: 0.0010\n",
            "Epoch 26/100\n",
            "\u001b[1m313/313\u001b[0m \u001b[32m━━━━━━━━━━━━━━━━━━━━\u001b[0m\u001b[37m\u001b[0m \u001b[1m3s\u001b[0m 6ms/step - accuracy: 0.9756 - loss: 0.1820 - val_accuracy: 0.9895 - val_loss: 0.1424 - learning_rate: 0.0010\n",
            "Epoch 27/100\n",
            "\u001b[1m313/313\u001b[0m \u001b[32m━━━━━━━━━━━━━━━━━━━━\u001b[0m\u001b[37m\u001b[0m \u001b[1m2s\u001b[0m 7ms/step - accuracy: 0.9713 - loss: 0.1868 - val_accuracy: 0.9893 - val_loss: 0.1433 - learning_rate: 0.0010\n",
            "Epoch 28/100\n",
            "\u001b[1m313/313\u001b[0m \u001b[32m━━━━━━━━━━━━━━━━━━━━\u001b[0m\u001b[37m\u001b[0m \u001b[1m2s\u001b[0m 4ms/step - accuracy: 0.9784 - loss: 0.1749 - val_accuracy: 0.9827 - val_loss: 0.1443 - learning_rate: 0.0010\n",
            "Epoch 29/100\n",
            "\u001b[1m313/313\u001b[0m \u001b[32m━━━━━━━━━━━━━━━━━━━━\u001b[0m\u001b[37m\u001b[0m \u001b[1m3s\u001b[0m 4ms/step - accuracy: 0.9759 - loss: 0.1753 - val_accuracy: 0.9900 - val_loss: 0.1358 - learning_rate: 0.0010\n",
            "Epoch 30/100\n",
            "\u001b[1m313/313\u001b[0m \u001b[32m━━━━━━━━━━━━━━━━━━━━\u001b[0m\u001b[37m\u001b[0m \u001b[1m1s\u001b[0m 4ms/step - accuracy: 0.9782 - loss: 0.1725 - val_accuracy: 0.9880 - val_loss: 0.1415 - learning_rate: 0.0010\n",
            "Epoch 31/100\n",
            "\u001b[1m313/313\u001b[0m \u001b[32m━━━━━━━━━━━━━━━━━━━━\u001b[0m\u001b[37m\u001b[0m \u001b[1m1s\u001b[0m 4ms/step - accuracy: 0.9745 - loss: 0.1702 - val_accuracy: 0.9905 - val_loss: 0.1328 - learning_rate: 0.0010\n",
            "Epoch 32/100\n",
            "\u001b[1m313/313\u001b[0m \u001b[32m━━━━━━━━━━━━━━━━━━━━\u001b[0m\u001b[37m\u001b[0m \u001b[1m1s\u001b[0m 4ms/step - accuracy: 0.9742 - loss: 0.1727 - val_accuracy: 0.9893 - val_loss: 0.1299 - learning_rate: 0.0010\n",
            "Epoch 33/100\n",
            "\u001b[1m313/313\u001b[0m \u001b[32m━━━━━━━━━━━━━━━━━━━━\u001b[0m\u001b[37m\u001b[0m \u001b[1m1s\u001b[0m 4ms/step - accuracy: 0.9775 - loss: 0.1655 - val_accuracy: 0.9885 - val_loss: 0.1324 - learning_rate: 0.0010\n",
            "Epoch 34/100\n",
            "\u001b[1m313/313\u001b[0m \u001b[32m━━━━━━━━━━━━━━━━━━━━\u001b[0m\u001b[37m\u001b[0m \u001b[1m2s\u001b[0m 6ms/step - accuracy: 0.9765 - loss: 0.1635 - val_accuracy: 0.9852 - val_loss: 0.1353 - learning_rate: 0.0010\n",
            "Epoch 35/100\n",
            "\u001b[1m313/313\u001b[0m \u001b[32m━━━━━━━━━━━━━━━━━━━━\u001b[0m\u001b[37m\u001b[0m \u001b[1m2s\u001b[0m 5ms/step - accuracy: 0.9782 - loss: 0.1588 - val_accuracy: 0.9847 - val_loss: 0.1357 - learning_rate: 0.0010\n",
            "Epoch 36/100\n",
            "\u001b[1m313/313\u001b[0m \u001b[32m━━━━━━━━━━━━━━━━━━━━\u001b[0m\u001b[37m\u001b[0m \u001b[1m1s\u001b[0m 4ms/step - accuracy: 0.9753 - loss: 0.1628 - val_accuracy: 0.9910 - val_loss: 0.1205 - learning_rate: 0.0010\n",
            "Epoch 37/100\n",
            "\u001b[1m313/313\u001b[0m \u001b[32m━━━━━━━━━━━━━━━━━━━━\u001b[0m\u001b[37m\u001b[0m \u001b[1m3s\u001b[0m 4ms/step - accuracy: 0.9820 - loss: 0.1509 - val_accuracy: 0.9880 - val_loss: 0.1276 - learning_rate: 0.0010\n",
            "Epoch 38/100\n",
            "\u001b[1m313/313\u001b[0m \u001b[32m━━━━━━━━━━━━━━━━━━━━\u001b[0m\u001b[37m\u001b[0m \u001b[1m1s\u001b[0m 4ms/step - accuracy: 0.9786 - loss: 0.1631 - val_accuracy: 0.9843 - val_loss: 0.1344 - learning_rate: 0.0010\n",
            "Epoch 39/100\n",
            "\u001b[1m313/313\u001b[0m \u001b[32m━━━━━━━━━━━━━━━━━━━━\u001b[0m\u001b[37m\u001b[0m \u001b[1m1s\u001b[0m 4ms/step - accuracy: 0.9804 - loss: 0.1514 - val_accuracy: 0.9862 - val_loss: 0.1241 - learning_rate: 0.0010\n",
            "Epoch 40/100\n",
            "\u001b[1m313/313\u001b[0m \u001b[32m━━━━━━━━━━━━━━━━━━━━\u001b[0m\u001b[37m\u001b[0m \u001b[1m1s\u001b[0m 4ms/step - accuracy: 0.9820 - loss: 0.1489 - val_accuracy: 0.9862 - val_loss: 0.1259 - learning_rate: 0.0010\n",
            "Epoch 41/100\n",
            "\u001b[1m313/313\u001b[0m \u001b[32m━━━━━━━━━━━━━━━━━━━━\u001b[0m\u001b[37m\u001b[0m \u001b[1m3s\u001b[0m 5ms/step - accuracy: 0.9790 - loss: 0.1490 - val_accuracy: 0.9887 - val_loss: 0.1173 - learning_rate: 0.0010\n",
            "Epoch 42/100\n",
            "\u001b[1m313/313\u001b[0m \u001b[32m━━━━━━━━━━━━━━━━━━━━\u001b[0m\u001b[37m\u001b[0m \u001b[1m2s\u001b[0m 7ms/step - accuracy: 0.9781 - loss: 0.1521 - val_accuracy: 0.9872 - val_loss: 0.1257 - learning_rate: 0.0010\n",
            "Epoch 43/100\n",
            "\u001b[1m313/313\u001b[0m \u001b[32m━━━━━━━━━━━━━━━━━━━━\u001b[0m\u001b[37m\u001b[0m \u001b[1m2s\u001b[0m 4ms/step - accuracy: 0.9807 - loss: 0.1482 - val_accuracy: 0.9890 - val_loss: 0.1197 - learning_rate: 0.0010\n",
            "Epoch 44/100\n",
            "\u001b[1m313/313\u001b[0m \u001b[32m━━━━━━━━━━━━━━━━━━━━\u001b[0m\u001b[37m\u001b[0m \u001b[1m1s\u001b[0m 4ms/step - accuracy: 0.9821 - loss: 0.1408 - val_accuracy: 0.9915 - val_loss: 0.1145 - learning_rate: 0.0010\n",
            "Epoch 45/100\n",
            "\u001b[1m313/313\u001b[0m \u001b[32m━━━━━━━━━━━━━━━━━━━━\u001b[0m\u001b[37m\u001b[0m \u001b[1m1s\u001b[0m 4ms/step - accuracy: 0.9825 - loss: 0.1439 - val_accuracy: 0.9890 - val_loss: 0.1162 - learning_rate: 0.0010\n",
            "Epoch 46/100\n",
            "\u001b[1m313/313\u001b[0m \u001b[32m━━━━━━━━━━━━━━━━━━━━\u001b[0m\u001b[37m\u001b[0m \u001b[1m1s\u001b[0m 4ms/step - accuracy: 0.9835 - loss: 0.1393 - val_accuracy: 0.9910 - val_loss: 0.1158 - learning_rate: 0.0010\n",
            "Epoch 47/100\n",
            "\u001b[1m313/313\u001b[0m \u001b[32m━━━━━━━━━━━━━━━━━━━━\u001b[0m\u001b[37m\u001b[0m \u001b[1m2s\u001b[0m 4ms/step - accuracy: 0.9779 - loss: 0.1519 - val_accuracy: 0.9902 - val_loss: 0.1139 - learning_rate: 0.0010\n",
            "Epoch 48/100\n",
            "\u001b[1m313/313\u001b[0m \u001b[32m━━━━━━━━━━━━━━━━━━━━\u001b[0m\u001b[37m\u001b[0m \u001b[1m1s\u001b[0m 4ms/step - accuracy: 0.9777 - loss: 0.1456 - val_accuracy: 0.9883 - val_loss: 0.1201 - learning_rate: 0.0010\n",
            "Epoch 49/100\n",
            "\u001b[1m313/313\u001b[0m \u001b[32m━━━━━━━━━━━━━━━━━━━━\u001b[0m\u001b[37m\u001b[0m \u001b[1m2s\u001b[0m 5ms/step - accuracy: 0.9802 - loss: 0.1446 - val_accuracy: 0.9868 - val_loss: 0.1231 - learning_rate: 0.0010\n",
            "Epoch 50/100\n",
            "\u001b[1m313/313\u001b[0m \u001b[32m━━━━━━━━━━━━━━━━━━━━\u001b[0m\u001b[37m\u001b[0m \u001b[1m3s\u001b[0m 7ms/step - accuracy: 0.9802 - loss: 0.1451 - val_accuracy: 0.9758 - val_loss: 0.1341 - learning_rate: 0.0010\n",
            "Epoch 51/100\n",
            "\u001b[1m313/313\u001b[0m \u001b[32m━━━━━━━━━━━━━━━━━━━━\u001b[0m\u001b[37m\u001b[0m \u001b[1m2s\u001b[0m 6ms/step - accuracy: 0.9788 - loss: 0.1466 - val_accuracy: 0.9893 - val_loss: 0.1182 - learning_rate: 0.0010\n",
            "Epoch 52/100\n",
            "\u001b[1m313/313\u001b[0m \u001b[32m━━━━━━━━━━━━━━━━━━━━\u001b[0m\u001b[37m\u001b[0m \u001b[1m2s\u001b[0m 4ms/step - accuracy: 0.9784 - loss: 0.1474 - val_accuracy: 0.9912 - val_loss: 0.1095 - learning_rate: 0.0010\n",
            "Epoch 53/100\n",
            "\u001b[1m313/313\u001b[0m \u001b[32m━━━━━━━━━━━━━━━━━━━━\u001b[0m\u001b[37m\u001b[0m \u001b[1m1s\u001b[0m 4ms/step - accuracy: 0.9840 - loss: 0.1344 - val_accuracy: 0.9915 - val_loss: 0.1087 - learning_rate: 0.0010\n",
            "Epoch 54/100\n",
            "\u001b[1m313/313\u001b[0m \u001b[32m━━━━━━━━━━━━━━━━━━━━\u001b[0m\u001b[37m\u001b[0m \u001b[1m1s\u001b[0m 4ms/step - accuracy: 0.9805 - loss: 0.1423 - val_accuracy: 0.9925 - val_loss: 0.1088 - learning_rate: 0.0010\n",
            "Epoch 55/100\n",
            "\u001b[1m313/313\u001b[0m \u001b[32m━━━━━━━━━━━━━━━━━━━━\u001b[0m\u001b[37m\u001b[0m \u001b[1m1s\u001b[0m 4ms/step - accuracy: 0.9831 - loss: 0.1344 - val_accuracy: 0.9895 - val_loss: 0.1111 - learning_rate: 0.0010\n",
            "Epoch 56/100\n",
            "\u001b[1m313/313\u001b[0m \u001b[32m━━━━━━━━━━━━━━━━━━━━\u001b[0m\u001b[37m\u001b[0m \u001b[1m1s\u001b[0m 4ms/step - accuracy: 0.9733 - loss: 0.1558 - val_accuracy: 0.9830 - val_loss: 0.1221 - learning_rate: 0.0010\n",
            "Epoch 57/100\n",
            "\u001b[1m313/313\u001b[0m \u001b[32m━━━━━━━━━━━━━━━━━━━━\u001b[0m\u001b[37m\u001b[0m \u001b[1m1s\u001b[0m 4ms/step - accuracy: 0.9823 - loss: 0.1337 - val_accuracy: 0.9898 - val_loss: 0.1140 - learning_rate: 0.0010\n",
            "Epoch 58/100\n",
            "\u001b[1m313/313\u001b[0m \u001b[32m━━━━━━━━━━━━━━━━━━━━\u001b[0m\u001b[37m\u001b[0m \u001b[1m3s\u001b[0m 6ms/step - accuracy: 0.9772 - loss: 0.1412 - val_accuracy: 0.9900 - val_loss: 0.1112 - learning_rate: 0.0010\n",
            "Epoch 59/100\n",
            "\u001b[1m313/313\u001b[0m \u001b[32m━━━━━━━━━━━━━━━━━━━━\u001b[0m\u001b[37m\u001b[0m \u001b[1m1s\u001b[0m 4ms/step - accuracy: 0.9844 - loss: 0.1255 - val_accuracy: 0.9920 - val_loss: 0.1017 - learning_rate: 5.0000e-04\n",
            "Epoch 60/100\n",
            "\u001b[1m313/313\u001b[0m \u001b[32m━━━━━━━━━━━━━━━━━━━━\u001b[0m\u001b[37m\u001b[0m \u001b[1m1s\u001b[0m 4ms/step - accuracy: 0.9882 - loss: 0.1165 - val_accuracy: 0.9933 - val_loss: 0.0987 - learning_rate: 5.0000e-04\n",
            "Epoch 61/100\n",
            "\u001b[1m313/313\u001b[0m \u001b[32m━━━━━━━━━━━━━━━━━━━━\u001b[0m\u001b[37m\u001b[0m \u001b[1m1s\u001b[0m 4ms/step - accuracy: 0.9870 - loss: 0.1154 - val_accuracy: 0.9927 - val_loss: 0.0971 - learning_rate: 5.0000e-04\n",
            "Epoch 62/100\n",
            "\u001b[1m313/313\u001b[0m \u001b[32m━━━━━━━━━━━━━━━━━━━━\u001b[0m\u001b[37m\u001b[0m \u001b[1m2s\u001b[0m 4ms/step - accuracy: 0.9871 - loss: 0.1133 - val_accuracy: 0.9923 - val_loss: 0.0928 - learning_rate: 5.0000e-04\n",
            "Epoch 63/100\n",
            "\u001b[1m313/313\u001b[0m \u001b[32m━━━━━━━━━━━━━━━━━━━━\u001b[0m\u001b[37m\u001b[0m \u001b[1m1s\u001b[0m 4ms/step - accuracy: 0.9871 - loss: 0.1126 - val_accuracy: 0.9865 - val_loss: 0.1039 - learning_rate: 5.0000e-04\n",
            "Epoch 64/100\n",
            "\u001b[1m313/313\u001b[0m \u001b[32m━━━━━━━━━━━━━━━━━━━━\u001b[0m\u001b[37m\u001b[0m \u001b[1m1s\u001b[0m 4ms/step - accuracy: 0.9882 - loss: 0.1114 - val_accuracy: 0.9927 - val_loss: 0.0920 - learning_rate: 5.0000e-04\n",
            "Epoch 65/100\n",
            "\u001b[1m313/313\u001b[0m \u001b[32m━━━━━━━━━━━━━━━━━━━━\u001b[0m\u001b[37m\u001b[0m \u001b[1m2s\u001b[0m 5ms/step - accuracy: 0.9905 - loss: 0.1033 - val_accuracy: 0.9912 - val_loss: 0.0923 - learning_rate: 5.0000e-04\n",
            "Epoch 66/100\n",
            "\u001b[1m313/313\u001b[0m \u001b[32m━━━━━━━━━━━━━━━━━━━━\u001b[0m\u001b[37m\u001b[0m \u001b[1m3s\u001b[0m 6ms/step - accuracy: 0.9887 - loss: 0.1091 - val_accuracy: 0.9933 - val_loss: 0.0885 - learning_rate: 5.0000e-04\n",
            "Epoch 67/100\n",
            "\u001b[1m313/313\u001b[0m \u001b[32m━━━━━━━━━━━━━━━━━━━━\u001b[0m\u001b[37m\u001b[0m \u001b[1m1s\u001b[0m 4ms/step - accuracy: 0.9899 - loss: 0.1044 - val_accuracy: 0.9923 - val_loss: 0.0857 - learning_rate: 5.0000e-04\n",
            "Epoch 68/100\n",
            "\u001b[1m313/313\u001b[0m \u001b[32m━━━━━━━━━━━━━━━━━━━━\u001b[0m\u001b[37m\u001b[0m \u001b[1m3s\u001b[0m 4ms/step - accuracy: 0.9878 - loss: 0.1097 - val_accuracy: 0.9905 - val_loss: 0.0936 - learning_rate: 5.0000e-04\n",
            "Epoch 69/100\n",
            "\u001b[1m313/313\u001b[0m \u001b[32m━━━━━━━━━━━━━━━━━━━━\u001b[0m\u001b[37m\u001b[0m \u001b[1m1s\u001b[0m 4ms/step - accuracy: 0.9877 - loss: 0.1066 - val_accuracy: 0.9933 - val_loss: 0.0862 - learning_rate: 5.0000e-04\n",
            "Epoch 70/100\n",
            "\u001b[1m313/313\u001b[0m \u001b[32m━━━━━━━━━━━━━━━━━━━━\u001b[0m\u001b[37m\u001b[0m \u001b[1m1s\u001b[0m 4ms/step - accuracy: 0.9904 - loss: 0.1045 - val_accuracy: 0.9912 - val_loss: 0.0894 - learning_rate: 5.0000e-04\n",
            "Epoch 71/100\n",
            "\u001b[1m313/313\u001b[0m \u001b[32m━━━━━━━━━━━━━━━━━━━━\u001b[0m\u001b[37m\u001b[0m \u001b[1m1s\u001b[0m 4ms/step - accuracy: 0.9891 - loss: 0.1026 - val_accuracy: 0.9945 - val_loss: 0.0860 - learning_rate: 5.0000e-04\n",
            "Epoch 72/100\n",
            "\u001b[1m313/313\u001b[0m \u001b[32m━━━━━━━━━━━━━━━━━━━━\u001b[0m\u001b[37m\u001b[0m \u001b[1m1s\u001b[0m 4ms/step - accuracy: 0.9902 - loss: 0.1007 - val_accuracy: 0.9935 - val_loss: 0.0843 - learning_rate: 5.0000e-04\n",
            "Epoch 73/100\n",
            "\u001b[1m313/313\u001b[0m \u001b[32m━━━━━━━━━━━━━━━━━━━━\u001b[0m\u001b[37m\u001b[0m \u001b[1m2s\u001b[0m 6ms/step - accuracy: 0.9867 - loss: 0.1038 - val_accuracy: 0.9910 - val_loss: 0.0867 - learning_rate: 5.0000e-04\n",
            "Epoch 74/100\n",
            "\u001b[1m313/313\u001b[0m \u001b[32m━━━━━━━━━━━━━━━━━━━━\u001b[0m\u001b[37m\u001b[0m \u001b[1m3s\u001b[0m 6ms/step - accuracy: 0.9890 - loss: 0.1013 - val_accuracy: 0.9942 - val_loss: 0.0822 - learning_rate: 5.0000e-04\n",
            "Epoch 75/100\n",
            "\u001b[1m313/313\u001b[0m \u001b[32m━━━━━━━━━━━━━━━━━━━━\u001b[0m\u001b[37m\u001b[0m \u001b[1m2s\u001b[0m 4ms/step - accuracy: 0.9904 - loss: 0.0993 - val_accuracy: 0.9923 - val_loss: 0.0855 - learning_rate: 5.0000e-04\n",
            "Epoch 76/100\n",
            "\u001b[1m313/313\u001b[0m \u001b[32m━━━━━━━━━━━━━━━━━━━━\u001b[0m\u001b[37m\u001b[0m \u001b[1m3s\u001b[0m 4ms/step - accuracy: 0.9897 - loss: 0.0985 - val_accuracy: 0.9927 - val_loss: 0.0823 - learning_rate: 5.0000e-04\n",
            "Epoch 77/100\n",
            "\u001b[1m313/313\u001b[0m \u001b[32m━━━━━━━━━━━━━━━━━━━━\u001b[0m\u001b[37m\u001b[0m \u001b[1m1s\u001b[0m 4ms/step - accuracy: 0.9906 - loss: 0.0988 - val_accuracy: 0.9937 - val_loss: 0.0829 - learning_rate: 5.0000e-04\n",
            "Epoch 78/100\n",
            "\u001b[1m313/313\u001b[0m \u001b[32m━━━━━━━━━━━━━━━━━━━━\u001b[0m\u001b[37m\u001b[0m \u001b[1m1s\u001b[0m 4ms/step - accuracy: 0.9906 - loss: 0.0964 - val_accuracy: 0.9937 - val_loss: 0.0811 - learning_rate: 5.0000e-04\n",
            "Epoch 79/100\n",
            "\u001b[1m313/313\u001b[0m \u001b[32m━━━━━━━━━━━━━━━━━━━━\u001b[0m\u001b[37m\u001b[0m \u001b[1m1s\u001b[0m 4ms/step - accuracy: 0.9927 - loss: 0.0949 - val_accuracy: 0.9927 - val_loss: 0.0814 - learning_rate: 5.0000e-04\n",
            "Epoch 80/100\n",
            "\u001b[1m313/313\u001b[0m \u001b[32m━━━━━━━━━━━━━━━━━━━━\u001b[0m\u001b[37m\u001b[0m \u001b[1m1s\u001b[0m 4ms/step - accuracy: 0.9908 - loss: 0.0996 - val_accuracy: 0.9935 - val_loss: 0.0812 - learning_rate: 5.0000e-04\n",
            "Epoch 81/100\n",
            "\u001b[1m313/313\u001b[0m \u001b[32m━━━━━━━━━━━━━━━━━━━━\u001b[0m\u001b[37m\u001b[0m \u001b[1m2s\u001b[0m 7ms/step - accuracy: 0.9877 - loss: 0.1018 - val_accuracy: 0.9920 - val_loss: 0.0857 - learning_rate: 5.0000e-04\n",
            "Epoch 82/100\n",
            "\u001b[1m313/313\u001b[0m \u001b[32m━━━━━━━━━━━━━━━━━━━━\u001b[0m\u001b[37m\u001b[0m \u001b[1m2s\u001b[0m 6ms/step - accuracy: 0.9885 - loss: 0.1000 - val_accuracy: 0.9948 - val_loss: 0.0804 - learning_rate: 5.0000e-04\n",
            "Epoch 83/100\n",
            "\u001b[1m313/313\u001b[0m \u001b[32m━━━━━━━━━━━━━━━━━━━━\u001b[0m\u001b[37m\u001b[0m \u001b[1m1s\u001b[0m 4ms/step - accuracy: 0.9879 - loss: 0.0998 - val_accuracy: 0.9927 - val_loss: 0.0830 - learning_rate: 5.0000e-04\n",
            "Epoch 84/100\n",
            "\u001b[1m313/313\u001b[0m \u001b[32m━━━━━━━━━━━━━━━━━━━━\u001b[0m\u001b[37m\u001b[0m \u001b[1m3s\u001b[0m 4ms/step - accuracy: 0.9914 - loss: 0.0953 - val_accuracy: 0.9937 - val_loss: 0.0803 - learning_rate: 5.0000e-04\n",
            "Epoch 85/100\n",
            "\u001b[1m313/313\u001b[0m \u001b[32m━━━━━━━━━━━━━━━━━━━━\u001b[0m\u001b[37m\u001b[0m \u001b[1m2s\u001b[0m 4ms/step - accuracy: 0.9911 - loss: 0.0946 - val_accuracy: 0.9937 - val_loss: 0.0793 - learning_rate: 5.0000e-04\n",
            "Epoch 86/100\n",
            "\u001b[1m313/313\u001b[0m \u001b[32m━━━━━━━━━━━━━━━━━━━━\u001b[0m\u001b[37m\u001b[0m \u001b[1m1s\u001b[0m 4ms/step - accuracy: 0.9907 - loss: 0.0939 - val_accuracy: 0.9940 - val_loss: 0.0803 - learning_rate: 5.0000e-04\n",
            "Epoch 87/100\n",
            "\u001b[1m313/313\u001b[0m \u001b[32m━━━━━━━━━━━━━━━━━━━━\u001b[0m\u001b[37m\u001b[0m \u001b[1m1s\u001b[0m 4ms/step - accuracy: 0.9901 - loss: 0.0969 - val_accuracy: 0.9923 - val_loss: 0.0793 - learning_rate: 5.0000e-04\n",
            "Epoch 88/100\n",
            "\u001b[1m313/313\u001b[0m \u001b[32m━━━━━━━━━━━━━━━━━━━━\u001b[0m\u001b[37m\u001b[0m \u001b[1m2s\u001b[0m 6ms/step - accuracy: 0.9897 - loss: 0.0964 - val_accuracy: 0.9925 - val_loss: 0.0778 - learning_rate: 5.0000e-04\n",
            "Epoch 89/100\n",
            "\u001b[1m313/313\u001b[0m \u001b[32m━━━━━━━━━━━━━━━━━━━━\u001b[0m\u001b[37m\u001b[0m \u001b[1m2s\u001b[0m 6ms/step - accuracy: 0.9886 - loss: 0.0952 - val_accuracy: 0.9930 - val_loss: 0.0790 - learning_rate: 5.0000e-04\n",
            "Epoch 90/100\n",
            "\u001b[1m313/313\u001b[0m \u001b[32m━━━━━━━━━━━━━━━━━━━━\u001b[0m\u001b[37m\u001b[0m \u001b[1m2s\u001b[0m 4ms/step - accuracy: 0.9915 - loss: 0.0939 - val_accuracy: 0.9930 - val_loss: 0.0763 - learning_rate: 5.0000e-04\n",
            "Epoch 91/100\n",
            "\u001b[1m313/313\u001b[0m \u001b[32m━━━━━━━━━━━━━━━━━━━━\u001b[0m\u001b[37m\u001b[0m \u001b[1m1s\u001b[0m 4ms/step - accuracy: 0.9898 - loss: 0.0922 - val_accuracy: 0.9918 - val_loss: 0.0824 - learning_rate: 5.0000e-04\n",
            "Epoch 92/100\n",
            "\u001b[1m313/313\u001b[0m \u001b[32m━━━━━━━━━━━━━━━━━━━━\u001b[0m\u001b[37m\u001b[0m \u001b[1m1s\u001b[0m 4ms/step - accuracy: 0.9924 - loss: 0.0894 - val_accuracy: 0.9908 - val_loss: 0.0811 - learning_rate: 5.0000e-04\n",
            "Epoch 93/100\n",
            "\u001b[1m313/313\u001b[0m \u001b[32m━━━━━━━━━━━━━━━━━━━━\u001b[0m\u001b[37m\u001b[0m \u001b[1m1s\u001b[0m 4ms/step - accuracy: 0.9889 - loss: 0.0951 - val_accuracy: 0.9912 - val_loss: 0.0790 - learning_rate: 5.0000e-04\n",
            "Epoch 94/100\n",
            "\u001b[1m313/313\u001b[0m \u001b[32m━━━━━━━━━━━━━━━━━━━━\u001b[0m\u001b[37m\u001b[0m \u001b[1m2s\u001b[0m 4ms/step - accuracy: 0.9904 - loss: 0.0928 - val_accuracy: 0.9930 - val_loss: 0.0766 - learning_rate: 5.0000e-04\n",
            "Epoch 95/100\n",
            "\u001b[1m313/313\u001b[0m \u001b[32m━━━━━━━━━━━━━━━━━━━━\u001b[0m\u001b[37m\u001b[0m \u001b[1m1s\u001b[0m 4ms/step - accuracy: 0.9888 - loss: 0.0942 - val_accuracy: 0.9925 - val_loss: 0.0787 - learning_rate: 5.0000e-04\n",
            "Epoch 96/100\n",
            "\u001b[1m313/313\u001b[0m \u001b[32m━━━━━━━━━━━━━━━━━━━━\u001b[0m\u001b[37m\u001b[0m \u001b[1m2s\u001b[0m 7ms/step - accuracy: 0.9935 - loss: 0.0849 - val_accuracy: 0.9927 - val_loss: 0.0748 - learning_rate: 2.5000e-04\n",
            "Epoch 97/100\n",
            "\u001b[1m313/313\u001b[0m \u001b[32m━━━━━━━━━━━━━━━━━━━━\u001b[0m\u001b[37m\u001b[0m \u001b[1m2s\u001b[0m 5ms/step - accuracy: 0.9927 - loss: 0.0823 - val_accuracy: 0.9937 - val_loss: 0.0744 - learning_rate: 2.5000e-04\n",
            "Epoch 98/100\n",
            "\u001b[1m313/313\u001b[0m \u001b[32m━━━━━━━━━━━━━━━━━━━━\u001b[0m\u001b[37m\u001b[0m \u001b[1m1s\u001b[0m 4ms/step - accuracy: 0.9948 - loss: 0.0804 - val_accuracy: 0.9937 - val_loss: 0.0727 - learning_rate: 2.5000e-04\n",
            "Epoch 99/100\n",
            "\u001b[1m313/313\u001b[0m \u001b[32m━━━━━━━━━━━━━━━━━━━━\u001b[0m\u001b[37m\u001b[0m \u001b[1m1s\u001b[0m 4ms/step - accuracy: 0.9932 - loss: 0.0812 - val_accuracy: 0.9933 - val_loss: 0.0710 - learning_rate: 2.5000e-04\n",
            "Epoch 100/100\n",
            "\u001b[1m313/313\u001b[0m \u001b[32m━━━━━━━━━━━━━━━━━━━━\u001b[0m\u001b[37m\u001b[0m \u001b[1m3s\u001b[0m 4ms/step - accuracy: 0.9919 - loss: 0.0802 - val_accuracy: 0.9950 - val_loss: 0.0701 - learning_rate: 2.5000e-04\n",
            "Avaliando o modelo MLP...\n",
            "\u001b[1m125/125\u001b[0m \u001b[32m━━━━━━━━━━━━━━━━━━━━\u001b[0m\u001b[37m\u001b[0m \u001b[1m0s\u001b[0m 2ms/step - accuracy: 0.9916 - loss: 0.0780\n",
            "Acurácia MLP nos dados de teste: 0.9950\n"
          ]
        }
      ],
      "source": [
        "# Calcular pesos para balanceamento das classes\n",
        "class_weights = compute_class_weight(\n",
        "    class_weight='balanced',\n",
        "    classes=np.unique(y_train),\n",
        "    y=y_train\n",
        ")\n",
        "class_weights_dict = dict(enumerate(class_weights))\n",
        "\n",
        "# Definir o modelo MLP [cite: 271, 268]\n",
        "model_mlp = Sequential([\n",
        "    Dense(56, activation='relu', input_dim=input_dim_hog, kernel_regularizer=l2(0.0005)), # Camada oculta com 56 unidades\n",
        "    Dropout(0.4), # O artigo não menciona dropout para MLP, mas pode ser útil\n",
        "    Dense(num_classes, activation='softmax')\n",
        "])\n",
        "\n",
        "# Compilar o modelo MLP\n",
        "model_mlp.compile(\n",
        "    optimizer=Adam(learning_rate=0.001), # O artigo usa Levenberg-Marquardt [cite: 269]\n",
        "    loss='categorical_crossentropy',\n",
        "    metrics=['accuracy']\n",
        ")\n",
        "\n",
        "model_mlp.summary() # Para verificar a arquitetura\n",
        "\n",
        "# Configurar callbacks (mantido)\n",
        "callbacks = [\n",
        "    EarlyStopping(monitor='val_loss', patience=10, restore_best_weights=True),\n",
        "    ReduceLROnPlateau(monitor='val_loss', factor=0.5, patience=5, min_lr=1e-6)\n",
        "]\n",
        "\n",
        "# Treinar o modelo MLP\n",
        "# Removido train_datagen.flow, pois não usamos mais ImageDataGenerator com HOG\n",
        "print(\"Iniciando treinamento do modelo MLP...\")\n",
        "history = model_mlp.fit(\n",
        "    X_train_hog, y_train_cat,\n",
        "    epochs=100, # Ajuste conforme necessário; MLPs podem precisar de mais épocas\n",
        "    validation_data=(X_test_hog, y_test_cat),\n",
        "    class_weight=class_weights_dict, # Manter se as classes forem desbalanceadas\n",
        "    callbacks=callbacks,\n",
        "    batch_size=32 # Adicionado batch_size explícito\n",
        ")\n",
        "\n",
        "# Avaliar o modelo\n",
        "print(\"Avaliando o modelo MLP...\")\n",
        "test_loss, test_acc = model_mlp.evaluate(X_test_hog, y_test_cat)\n",
        "print(f\"Acurácia MLP nos dados de teste: {test_acc:.4f}\")"
      ]
    },
    {
      "cell_type": "markdown",
      "metadata": {
        "id": "H2alcRaLPzxv"
      },
      "source": [
        "## **Salvar modelo**"
      ]
    },
    {
      "cell_type": "code",
      "execution_count": null,
      "metadata": {
        "colab": {
          "base_uri": "https://localhost:8080/",
          "height": 1000
        },
        "id": "zEzrMy2bQKLf",
        "outputId": "6426a0a4-8ef4-4465-91e2-9061fca43d3c"
      },
      "outputs": [
        {
          "name": "stdout",
          "output_type": "stream",
          "text": [
            "Saved artifact at '/tmp/tmpaa7ehq7l'. The following endpoints are available:\n",
            "\n",
            "* Endpoint 'serve'\n",
            "  args_0 (POSITIONAL_ONLY): TensorSpec(shape=(None, 1296), dtype=tf.float32, name='keras_tensor')\n",
            "Output Type:\n",
            "  TensorSpec(shape=(None, 10), dtype=tf.float32, name=None)\n",
            "Captures:\n",
            "  139598976063760: TensorSpec(shape=(), dtype=tf.resource, name=None)\n",
            "  139598976068752: TensorSpec(shape=(), dtype=tf.resource, name=None)\n",
            "  139598976066064: TensorSpec(shape=(), dtype=tf.resource, name=None)\n",
            "  139598976067024: TensorSpec(shape=(), dtype=tf.resource, name=None)\n",
            "Modelos salvos em /content/drive/MyDrive/Faculdade/Materias/TG/Modelo_Sete_Segmento/seven_segment_model_mlp.keras e /content/drive/MyDrive/Faculdade/Materias/TG/Modelo_Sete_Segmento/seven_segment_model_mlp.tflite\n"
          ]
        },
        {
          "data": {
            "image/png": "[encoded data removed]",
            "text/plain": [
              "<Figure size 600x500 with 1 Axes>"
            ]
          },
          "metadata": {},
          "output_type": "display_data"
        },
        {
          "data": {
            "image/png": "[encoded data removed]",
            "text/plain": [
              "<Figure size 600x500 with 1 Axes>"
            ]
          },
          "metadata": {},
          "output_type": "display_data"
        }
      ],
      "source": [
        "# Escolher local para salvar os modelos Keras e tflite\n",
        "\n",
        "keras_model_path = \n",
        "tflite_model_path = \n",
        "\n",
        "model_mlp.save(keras_model_path)\n",
        "\n",
        "# Para converter para TFLite, o modelo Keras precisa ser construído.\n",
        "# Se o input_dim foi determinado dinamicamente, pode ser necessário definir explicitamente para a conversão\n",
        "# ou garantir que o modelo foi \"chamado\" (treinado/avaliado).\n",
        "try:\n",
        "    converter = tf.lite.TFLiteConverter.from_keras_model(model_mlp)\n",
        "    tflite_model = converter.convert()\n",
        "    with open(tflite_model_path, 'wb') as f:\n",
        "        f.write(tflite_model)\n",
        "    print(f\"Modelos salvos em {keras_model_path} e {tflite_model_path}\")\n",
        "except Exception as e:\n",
        "    print(f\"Erro ao converter para TFLite: {e}\")\n",
        "    print(\"Certifique-se de que o modelo pode ser construído. Input_shape pode ser necessário.\")\n",
        "\n",
        "\n",
        "# Gráfico de Acurácia\n",
        "plt.figure(figsize=(6, 5))\n",
        "plt.plot(history.history['accuracy'], label='Acurácia no Treinamento')\n",
        "plt.plot(history.history['val_accuracy'], label='Acurácia na Validação')\n",
        "plt.title('Acurácia por Época')\n",
        "plt.xlabel('Época')\n",
        "plt.ylabel('Acurácia')\n",
        "plt.legend()\n",
        "plt.grid(True)\n",
        "plt.tight_layout()\n",
        "plt.show()\n",
        "\n",
        "# Gráfico de Perda\n",
        "plt.figure(figsize=(6, 5))\n",
        "plt.plot(history.history['loss'], label='Perda no Treinamento')\n",
        "plt.plot(history.history['val_loss'], label='Perda na Validação')\n",
        "plt.title('Perda por Época')\n",
        "plt.xlabel('Época')\n",
        "plt.ylabel('Perda')\n",
        "plt.legend()\n",
        "plt.grid(True)\n",
        "plt.tight_layout()\n",
        "plt.show()"
      ]
    },
    {
      "cell_type": "markdown",
      "metadata": {
        "id": "ADcMc1ClQex_"
      },
      "source": [
        "## **Matriz de confusão**"
      ]
    },
    {
      "cell_type": "code",
      "execution_count": null,
      "metadata": {
        "colab": {
          "base_uri": "https://localhost:8080/",
          "height": 581
        },
        "id": "CRnpysG7ijTg",
        "outputId": "23d42ad7-3dc9-4704-cc89-e431aebd8311"
      },
      "outputs": [
        {
          "name": "stdout",
          "output_type": "stream",
          "text": [
            "\u001b[1m125/125\u001b[0m \u001b[32m━━━━━━━━━━━━━━━━━━━━\u001b[0m\u001b[37m\u001b[0m \u001b[1m0s\u001b[0m 2ms/step\n"
          ]
        },
        {
          "data": {
            "image/png": "[encoded data removed]",
            "text/plain": [
              "<Figure size 800x600 with 2 Axes>"
            ]
          },
          "metadata": {},
          "output_type": "display_data"
        }
      ],
      "source": [
        "# Gerar previsões\n",
        "y_pred_proba = model_mlp.predict(X_test_hog)\n",
        "y_pred = np.argmax(y_pred_proba, axis=1)\n",
        "y_true = np.argmax(y_test_cat, axis=1) # Ou use y_test diretamente se não for one-hot encoded ainda\n",
        "\n",
        "# Calcular matriz de confusão\n",
        "conf_matrix = confusion_matrix(y_true, y_pred)\n",
        "\n",
        "# Visualizar matriz de confusão\n",
        "plt.figure(figsize=(8, 6))\n",
        "sns.heatmap(conf_matrix, annot=True, fmt='d', cmap='Blues', xticklabels=range(num_classes), yticklabels=range(num_classes))\n",
        "plt.xlabel('Label Prevista')\n",
        "plt.ylabel('Label Verdadeira')\n",
        "plt.title('Matriz de Confusão')\n",
        "plt.show()"
      ]
    }
  ],
  "metadata": {
    "colab": {
      "gpuType": "T4",
      "provenance": []
    },
    "kernelspec": {
      "display_name": "Python 3",
      "name": "python3"
    },
    "language_info": {
      "name": "python"
    }
  },
  "nbformat": 4,
  "nbformat_minor": 0
}

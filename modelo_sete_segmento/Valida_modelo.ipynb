{
 "cells": [
  {
   "cell_type": "code",
   "execution_count": 1,
   "metadata": {
    "colab": {
     "base_uri": "https://localhost:8080/"
    },
    "executionInfo": {
     "elapsed": 52808,
     "status": "ok",
     "timestamp": 1748478543013,
     "user": {
      "displayName": "Fabiano Avelar",
      "userId": "18083162964012077135"
     },
     "user_tz": 180
    },
    "id": "ZmBpmnJahwv5",
    "outputId": "404fb0c6-7a10-400a-880b-fa1d6e06ae38"
   },
   "outputs": [
    {
     "name": "stdout",
     "output_type": "stream",
     "text": [
      "Mounted at /content/drive\n"
     ]
    }
   ],
   "source": [
    "from google.colab import drive\n",
    "drive.mount('/content/drive')"
   ]
  },
  {
   "cell_type": "code",
   "execution_count": null,
   "metadata": {
    "colab": {
     "base_uri": "https://localhost:8080/",
     "height": 601
    },
    "executionInfo": {
     "elapsed": 7797,
     "status": "ok",
     "timestamp": 1748478576053,
     "user": {
      "displayName": "Fabiano Avelar",
      "userId": "18083162964012077135"
     },
     "user_tz": 180
    },
    "id": "83Hl-8_YhcTw",
    "outputId": "4ae51a70-7663-44e8-97bd-30b4d78a1bb4"
   },
   "outputs": [
    {
     "data": {
      "text/plain": [
       "<Figure size 400x400 with 0 Axes>"
      ]
     },
     "metadata": {},
     "output_type": "display_data"
    },
    {
     "data": {
      "image/png": "[encoded data removed]",
      "text/plain": [
       "<Figure size 800x400 with 2 Axes>"
      ]
     },
     "metadata": {},
     "output_type": "display_data"
    },
    {
     "name": "stdout",
     "output_type": "stream",
     "text": [
      "\u001b[1m1/1\u001b[0m \u001b[32m━━━━━━━━━━━━━━━━━━━━\u001b[0m\u001b[37m\u001b[0m \u001b[1m0s\u001b[0m 152ms/step\n",
      "Classe mais provável: 0\n",
      "Probabilidade da classe mais provável: 71.66%\n",
      "Probabilidades por classe:\n",
      "Classe 0: 71.66%\n",
      "Classe 1: 0.04%\n",
      "Classe 2: 0.00%\n",
      "Classe 3: 0.00%\n",
      "Classe 4: 0.00%\n",
      "Classe 5: 0.00%\n",
      "Classe 6: 0.00%\n",
      "Classe 7: 0.00%\n",
      "Classe 8: 28.30%\n",
      "Classe 9: 0.00%\n"
     ]
    }
   ],
   "source": [
    "import cv2\n",
    "import numpy as np\n",
    "import tensorflow as tf\n",
    "import matplotlib.pyplot as plt\n",
    "from skimage.filters import threshold_sauvola # Mantido para consistência com o artigo\n",
    "\n",
    "# Função para preprocessar imagens para extração HOG (inferência)\n",
    "def preprocess_image_for_hog_inference(image_path, target_size=(56, 56)):\n",
    "    \"\"\"\n",
    "    Carrega e preprocessa uma imagem para extração HOG.\n",
    "\n",
    "    Parâmetros:\n",
    "        image_path (str): Caminho para a imagem.\n",
    "        target_size (tuple): Dimensões para redimensionar as imagens (ex.: (56, 56)).\n",
    "\n",
    "    Retorna:\n",
    "        np.array: Imagem pré-processada (uint8) ou None se o carregamento falhar.\n",
    "    \"\"\"\n",
    "    # Carrega a imagem em escala de cinza\n",
    "    img = cv2.imread(image_path, cv2.IMREAD_GRAYSCALE)\n",
    "\n",
    "    # Verifica se a imagem foi carregada corretamente\n",
    "    if img is None:\n",
    "        print(f\"Imagem não encontrada: {image_path}\")\n",
    "        return None\n",
    "\n",
    "    # Redimensiona a imagem\n",
    "    img_resized = cv2.resize(img, target_size, interpolation=cv2.INTER_AREA)\n",
    "\n",
    "    # --- ETAPA DE BINARIZAÇÃO ---\n",
    "    # O objetivo é ter segmentos ativos pretos (0) e fundo/segmentos inativos brancos (255).\n",
    "    # A imagem 'zero.jpg' tem segmentos pretos (~0-50) e fundo/segmento central cinza (~180-200).\n",
    "\n",
    "    # Opção 1: Binarização de Sauvola (preferencial, conforme o artigo)\n",
    "    # Parâmetros podem precisar de ajuste. window_size deve ser ímpar.\n",
    "    window_size = 15 # Menor para dígitos isolados\n",
    "    k_sauvola = 0.2   # k pode variar; o artigo usa 0.34 para a tela inteira [cite: 199]\n",
    "    try:\n",
    "        thresh_s = threshold_sauvola(img_resized, window_size=window_size, k=k_sauvola)\n",
    "        # Se os segmentos são mais escuros que o limiar, eles se tornam True (1). Multiplicamos por 255.\n",
    "        # Para ter segmentos pretos, queremos que o que é MAIS ESCURO (menor valor) que o limiar seja 0.\n",
    "        img_binarized = (img_resized < thresh_s).astype(np.uint8) * 255 # Segments escuros -> branco\n",
    "        img_binarized = cv2.bitwise_not(img_binarized) # Inverte: Segments escuros -> preto, Fundo -> branco\n",
    "\n",
    "    except ImportError:\n",
    "        print(\"Scikit-image não encontrada para Sauvola. Usando Otsu como fallback.\")\n",
    "        # Opção 2: Binarização de Otsu (fallback se Sauvola não estiver disponível/falhar)\n",
    "        # Otsu funciona bem para imagens bimodais (ex: objeto escuro, fundo claro).\n",
    "        _, img_binarized = cv2.threshold(img_resized, 0, 255, cv2.THRESH_BINARY + cv2.THRESH_OTSU)\n",
    "        # THRESH_BINARY + OTSU geralmente torna objetos mais escuros que o limiar em 'maxval' (255, branco).\n",
    "        # Como queremos segmentos pretos, invertemos.\n",
    "        img_binarized = cv2.bitwise_not(img_binarized)\n",
    "\n",
    "    except Exception as e:\n",
    "        print(f\"Erro na binarização de Sauvola: {e}. Usando Otsu como fallback.\")\n",
    "        _, img_binarized = cv2.threshold(img_resized, 0, 255, cv2.THRESH_BINARY + cv2.THRESH_OTSU)\n",
    "        img_binarized = cv2.bitwise_not(img_binarized)\n",
    "\n",
    "\n",
    "    img_processed = img_binarized.astype(np.uint8)\n",
    "    #--------------------------------\n",
    "\n",
    "    # **Exibe a imagem que será usada para HOG no Colab**\n",
    "    plt.figure(figsize=(4, 4))\n",
    "    # A imagem original é img_resized, a processada é img_processed\n",
    "    fig, ax = plt.subplots(1, 2, figsize=(8, 4))\n",
    "    ax[0].imshow(img_resized, cmap=\"gray\")\n",
    "    ax[0].set_title(\"Imagem Redimensionada (Original)\")\n",
    "    ax[0].axis(\"off\")\n",
    "\n",
    "    ax[1].imshow(img_processed, cmap=\"gray\")\n",
    "    ax[1].set_title(\"Imagem Binarizada para HOG\")\n",
    "    ax[1].axis(\"off\")\n",
    "    plt.show()\n",
    "\n",
    "    return img_processed\n",
    "\n",
    "# O restante do seu código de inferência (extract_single_hog_feature, predict_class_with_hog)\n",
    "# permanece o MESMO, pois ele espera uma imagem uint8 56x56 como entrada para HOG.\n",
    "\n",
    "# Função para extrair características HOG de uma única imagem (sem alterações)\n",
    "def extract_single_hog_feature(image_array_uint8):\n",
    "    if image_array_uint8 is None:\n",
    "        return None\n",
    "    winSize = (56, 56)\n",
    "    blockSize = (16, 16)\n",
    "    blockStride = (8, 8)\n",
    "    cellSize = (8, 8)\n",
    "    nbins = 9\n",
    "    hog = cv2.HOGDescriptor(winSize, blockSize, blockStride, cellSize, nbins)\n",
    "    features = hog.compute(image_array_uint8)\n",
    "    return features.flatten()\n",
    "\n",
    "# Função de predição (sem alterações internas, mas agora usa a preprocess_image_for_hog_inference atualizada)\n",
    "def predict_class_with_hog(model_path, image_path):\n",
    "    try:\n",
    "        model = tf.keras.models.load_model(model_path)\n",
    "    except Exception as e:\n",
    "        print(f\"Erro ao carregar o modelo: {e}\")\n",
    "        return None, None, None\n",
    "\n",
    "    img_for_hog = preprocess_image_for_hog_inference(image_path) # Esta função foi atualizada\n",
    "    if img_for_hog is None:\n",
    "        return None, None, None\n",
    "\n",
    "    hog_features = extract_single_hog_feature(img_for_hog)\n",
    "    if hog_features is None:\n",
    "        return None, None, None\n",
    "\n",
    "    hog_features_batch = np.expand_dims(hog_features, axis=0)\n",
    "\n",
    "    try:\n",
    "        predictions = model.predict(hog_features_batch)[0]\n",
    "    except Exception as e:\n",
    "        print(f\"Erro durante a predição: {e}\")\n",
    "        print(f\"Shape do HOG features para predição: {hog_features_batch.shape}\")\n",
    "        print(f\"Input esperado pelo modelo: {model.input_shape}\")\n",
    "        return None, None, None\n",
    "\n",
    "    predicted_class = np.argmax(predictions)\n",
    "    probability = predictions[predicted_class]\n",
    "    return predicted_class, probability, predictions\n",
    "\n",
    "# Caminho do modelo e da imagem de entrada\n",
    "model_path = \n",
    "image_path = \n",
    "\n",
    "# Faz a predição\n",
    "predicted_class, probability, predictions = predict_class_with_hog(model_path, image_path)\n",
    "\n",
    "# Mostra a saída\n",
    "if predicted_class is not None:\n",
    "    print(f\"Classe mais provável: {predicted_class}\")\n",
    "    print(f\"Probabilidade da classe mais provável: {probability:.2%}\")\n",
    "    print(\"Probabilidades por classe:\")\n",
    "    for i, prob in enumerate(predictions):\n",
    "        print(f\"Classe {i}: {prob:.2%}\")\n",
    "else:\n",
    "    print(\"Não foi possível realizar a predição.\")"
   ]
  }
 ],
 "metadata": {
  "colab": {
   "authorship_tag": "ABX9TyNOgfXXa4OS2wbKz+xPnwx1",
   "provenance": []
  },
  "kernelspec": {
   "display_name": "Python 3",
   "name": "python3"
  },
  "language_info": {
   "name": "python"
  }
 },
 "nbformat": 4,
 "nbformat_minor": 0
}
